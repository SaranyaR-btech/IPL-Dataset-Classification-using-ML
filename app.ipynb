{
 "cells": [
  {
   "cell_type": "code",
   "execution_count": 1,
   "id": "889c9b0d-76d3-4cbc-be1e-42c796bd5019",
   "metadata": {},
   "outputs": [],
   "source": [
    "import joblib\n",
    "m= joblib.load(\"xgboost_model.pkl\")"
   ]
  },
  {
   "cell_type": "code",
   "execution_count": null,
   "id": "23e2b566-9fda-4c91-85d0-e5c2d842791a",
   "metadata": {},
   "outputs": [],
   "source": []
  },
  {
   "cell_type": "code",
   "execution_count": null,
   "id": "ce3c4f2d-9d82-4d55-800a-ec69386c3aa9",
   "metadata": {},
   "outputs": [],
   "source": []
  },
  {
   "cell_type": "code",
   "execution_count": 2,
   "id": "5524dcfe-63ed-4e15-a714-22268c15c9bf",
   "metadata": {},
   "outputs": [
    {
     "name": "stdout",
     "output_type": "stream",
     "text": [
      "* Running on local URL:  http://127.0.0.1:7860\n",
      "\n",
      "To create a public link, set `share=True` in `launch()`.\n"
     ]
    },
    {
     "data": {
      "text/html": [
       "<div><iframe src=\"http://127.0.0.1:7860/\" width=\"100%\" height=\"500\" allow=\"autoplay; camera; microphone; clipboard-read; clipboard-write;\" frameborder=\"0\" allowfullscreen></iframe></div>"
      ],
      "text/plain": [
       "<IPython.core.display.HTML object>"
      ]
     },
     "metadata": {},
     "output_type": "display_data"
    },
    {
     "data": {
      "text/plain": []
     },
     "execution_count": 2,
     "metadata": {},
     "output_type": "execute_result"
    }
   ],
   "source": [
    "import gradio as gr\n",
    "import numpy as np\n",
    "\n",
    "\n",
    "season_map = {\n",
    "    \"IPL-2008\": 0, \"IPL-2009\": 1, \"IPL-2010\": 2, \"IPL-2011\": 3,\n",
    "    \"IPL-2012\": 4, \"IPL-2013\": 5, \"IPL-2014\": 6, \"IPL-2015\": 7,\n",
    "    \"IPL-2016\": 8, \"IPL-2017\": 9, \"IPL-2018\": 10, \"IPL-2019\": 11\n",
    "}\n",
    "\n",
    "city_map = {\n",
    "    \"Abu Dhabi\": 0, \"Ahmedabad\": 1, \"Bangalore\": 2, \"Bengaluru\": 3,\n",
    "    \"Bloemfontein\": 4, \"Cape Town\": 5, \"Centurion\": 6, \"Chandigarh\": 7,\n",
    "    \"Chennai\": 8, \"Cuttack\": 9, \"Delhi\": 10, \"Dharamsala\": 11, \"Durban\": 12,\n",
    "    \"East London\": 13, \"Hyderabad\": 14, \"Indore\": 15, \"Jaipur\": 16,\n",
    "    \"Johannesburg\": 17, \"Kanpur\": 18, \"Kimberley\": 19, \"Kochi\": 20,\n",
    "    \"Kolkata\": 21, \"Mohali\": 22, \"Mumbai\": 23, \"Nagpur\": 24,\n",
    "    \"Port Elizabeth\": 25, \"Pune\": 26, \"Raipur\": 27, \"Rajkot\": 28,\n",
    "    \"Ranchi\": 29, \"Sharjah\": 30, \"Visakhapatnam\": 31\n",
    "}\n",
    "\n",
    "toss_winner_map = {\n",
    "    \"Chennai Super Kings\": 0, \"Deccan Chargers\": 1, \"Delhi Capitals\": 2,\n",
    "    \"Delhi Daredevils\": 3, \"Gujarat Lions\": 4, \"Kings XI Punjab\": 5,\n",
    "    \"Kochi Tuskers Kerala\": 6, \"Kolkata Knight Riders\": 7,\n",
    "    \"Mumbai Indians\": 8, \"Pune Warriors\": 9, \"Rajasthan Royals\": 10,\n",
    "    \"Rising Pune Supergiant\": 11, \"Rising Pune Supergiants\": 12,\n",
    "    \"Royal Challengers Bangalore\": 13, \"Sunrisers Hyderabad\": 14\n",
    "}\n",
    "\n",
    "result_map = {\"no result\": 0, \"normal\": 1, \"tie\": 2}\n",
    "\n",
    "# Example win_by_runs mapping (extend as you provided)\n",
    "win_by_runs_map = {\n",
    "    \"0\": 0, \"1\": 1, \"10\": 2, \"102\": 3, \"105\": 4, \"11\": 5, \"111\": 6,\n",
    "    \"118\": 7, \"12\": 8, \"13\": 9, \"130\": 10, \"138\": 11, \"14\": 12, \"140\": 13,\n",
    "    \"144\": 14, \"146\": 15, \"15\": 16, \"16\": 17, \"17\": 18, \"18\": 19,\n",
    "    \"19\": 20, \"2\": 21, \"20\": 22, \"21\": 23, \"22\": 24, \"23\": 25, \"24\": 26,\n",
    "    \"25\": 27, \"26\": 28, \"27\": 29, \"28\": 30, \"29\": 31, \"3\": 32, \"30\": 33,\n",
    "    \"31\": 34, \"32\": 35, \"33\": 36, \"34\": 37, \"35\": 38, \"36\": 39,\n",
    "    \"37\": 40, \"38\": 41, \"39\": 42, \"4\": 43, \"40\": 44, \"41\": 45, \"42\": 46,\n",
    "    \"43\": 47, \"44\": 48, \"45\": 49, \"46\": 50, \"47\": 51, \"48\": 52,\n",
    "    \"5\": 53, \"50\": 54, \"51\": 55, \"53\": 56, \"55\": 57, \"57\": 58,\n",
    "    \"58\": 59, \"59\": 60, \"6\": 61, \"60\": 62, \"61\": 63, \"62\": 64, \"63\": 65,\n",
    "    \"64\": 66, \"65\": 67, \"66\": 68, \"67\": 69, \"7\": 70, \"71\": 71, \"72\": 72,\n",
    "    \"74\": 73, \"75\": 74, \"76\": 75, \"77\": 76, \"78\": 77, \"8\": 78,\n",
    "    \"80\": 79, \"82\": 80, \"85\": 81, \"86\": 82, \"87\": 83, \"9\": 84,\n",
    "    \"92\": 85, \"93\": 86, \"97\": 87, \"98\": 88\n",
    "}\n",
    "\n",
    "venue_map = {\n",
    "    \"ACA-VDCA Stadium\": 0, \"Barabati Stadium\": 1, \"Brabourne Stadium\": 2,\n",
    "    \"Buffalo Park\": 3, \"De Beers Diamond Oval\": 4, \"Dr DY Patil Sports Academy\": 5,\n",
    "    \"Dr. Y.S. Rajasekhara Reddy ACA-VDCA Cricket Stadium\": 6,\n",
    "    \"Dubai International Cricket Stadium\": 7, \"Eden Gardens\": 8,\n",
    "    \"Feroz Shah Kotla\": 9, \"Feroz Shah Kotla Ground\": 10, \"Green Park\": 11,\n",
    "    \"Himachal Pradesh Cricket Association Stadium\": 12, \"Holkar Cricket Stadium\": 13,\n",
    "    \"IS Bindra Stadium\": 14, \"JSCA International Stadium Complex\": 15,\n",
    "    \"Kingsmead\": 16, \"M Chinnaswamy Stadium\": 17, \"M. A. Chidambaram Stadium\": 18,\n",
    "    \"M. Chinnaswamy Stadium\": 19, \"MA Chidambaram Stadium, Chepauk\": 20,\n",
    "    \"Maharashtra Cricket Association Stadium\": 21, \"Nehru Stadium\": 22,\n",
    "    \"New Wanderers Stadium\": 23, \"Newlands\": 24, \"OUTsurance Oval\": 25,\n",
    "    \"Punjab Cricket Association IS Bindra Stadium, Mohali\": 26,\n",
    "    \"Punjab Cricket Association Stadium, Mohali\": 27,\n",
    "    \"Rajiv Gandhi International Stadium, Uppal\": 28,\n",
    "    \"Rajiv Gandhi Intl. Cricket Stadium\": 29, \"Sardar Patel Stadium, Motera\": 30,\n",
    "    \"Saurashtra Cricket Association Stadium\": 31, \"Sawai Mansingh Stadium\": 32,\n",
    "    \"Shaheed Veer Narayan Singh International Stadium\": 33,\n",
    "    \"Sharjah Cricket Stadium\": 34, \"Sheikh Zayed Stadium\": 35,\n",
    "    \"St George's Park\": 36, \"Subrata Roy Sahara Stadium\": 37,\n",
    "    \"SuperSport Park\": 38, \"Vidarbha Cricket Association Stadium, Jamtha\": 39,\n",
    "    \"Wankhede Stadium\": 40\n",
    "}\n",
    "\n",
    "team_state_map = {\n",
    "    \"Bangalore\": 0, \"Chennai\": 1, \"Delhi\": 2, \"Gujarat\": 3,\n",
    "    \"Hyderabad\": 4, \"Kerala\": 5, \"Kolkata\": 6, \"Mumbai\": 7,\n",
    "    \"Pune\": 8, \"Punjab\": 9, \"Rajasthan\": 10\n",
    "}\n",
    "\n",
    "def predict_winner(season, city, date, toss_winner, toss_decision, result,\n",
    "                  dl_applied, win_by_runs, win_by_wickets, venue,\n",
    "                  team1_state, team2_state):\n",
    "\n",
    "    features = np.array([[\n",
    "        season_map[season],\n",
    "        city_map[city],\n",
    "        date,\n",
    "        toss_winner_map[toss_winner],\n",
    "        toss_decision,\n",
    "        result_map[result],\n",
    "        dl_applied,\n",
    "        win_by_runs_map[win_by_runs],\n",
    "        win_by_wickets,\n",
    "        venue_map[venue],\n",
    "        team_state_map[team1_state],\n",
    "        team_state_map[team2_state],\n",
    "       \n",
    "    ]])\n",
    "\n",
    "    prediction = m.predict(features)[0]\n",
    "\n",
    "    predicted_team = [team for team, code in team_state_map.items() if code == prediction][0]\n",
    "\n",
    "    return f\"Predicted Winning Team State: {predicted_team}\"\n",
    "\n",
    "\n",
    "demo = gr.Interface(\n",
    "    fn=predict_winner,\n",
    "    inputs=[\n",
    "        gr.Dropdown(list(season_map.keys()), label=\"Season\"),\n",
    "        gr.Dropdown(list(city_map.keys()), label=\"City\"),\n",
    "        gr.Number(label=\"Date\"),\n",
    "        gr.Dropdown(list(toss_winner_map.keys()), label=\"Toss Winner\"),\n",
    "        gr.Radio([0,1], label=\"Toss Decision (0=bat,1=field)\"),\n",
    "        gr.Dropdown(list(result_map.keys()), label=\"Result\"),\n",
    "        gr.Radio([0,1], label=\"DL Applied (0=No,1=Yes)\"),\n",
    "        gr.Dropdown(list(win_by_runs_map.keys()), label=\"Win by Runs\"),\n",
    "        gr.Dropdown([0,1,2,3,4,5,6,7,8,9,10,11],label=\"Win By Wickets\"),\n",
    "        gr.Dropdown(list(venue_map.keys()), label=\"Venue\"),\n",
    "        gr.Dropdown(list(team_state_map.keys()), label=\"Team 1 State\"),\n",
    "        gr.Dropdown(list(team_state_map.keys()), label=\"Team 2 State\"),\n",
    "        \n",
    "    ],\n",
    "    outputs=\"text\",\n",
    "    title=\"IPL Match Winner Predictor\"\n",
    ")\n",
    "\n",
    "demo.launch()\n"
   ]
  },
  {
   "cell_type": "code",
   "execution_count": 4,
   "id": "a671c5bd-b7e2-49de-90de-b607d9b4307f",
   "metadata": {},
   "outputs": [
    {
     "name": "stdout",
     "output_type": "stream",
     "text": [
      "* Running on local URL:  http://127.0.0.1:7862\n",
      "\n",
      "To create a public link, set `share=True` in `launch()`.\n"
     ]
    },
    {
     "data": {
      "text/html": [
       "<div><iframe src=\"http://127.0.0.1:7862/\" width=\"100%\" height=\"500\" allow=\"autoplay; camera; microphone; clipboard-read; clipboard-write;\" frameborder=\"0\" allowfullscreen></iframe></div>"
      ],
      "text/plain": [
       "<IPython.core.display.HTML object>"
      ]
     },
     "metadata": {},
     "output_type": "display_data"
    },
    {
     "data": {
      "text/plain": []
     },
     "execution_count": 4,
     "metadata": {},
     "output_type": "execute_result"
    }
   ],
   "source": [
    "import gradio as gr\n",
    "import numpy as np\n",
    "\n",
    "# Dictionary to map encoded output back to team names\n",
    "team_mapping = {\n",
    "    0: \"Bangalore\",\n",
    "    1: \"Chennai\",\n",
    "    2: \"Delhi\",\n",
    "    3: \"Gujarat\",\n",
    "    4: \"Hyderabad\",\n",
    "    5: \"Kerala\",\n",
    "    6: \"Kolkata\",\n",
    "    7: \"Mumbai\",\n",
    "    8: \"Pune\",\n",
    "    9: \"Punjab\",\n",
    "    10: \"Rajasthan\",\n",
    "    11: \"Unknown/NaN\"\n",
    "}\n",
    "\n",
    "# Prediction function\n",
    "def predict_match(season, city, date, toss_winner, toss_decision, result,\n",
    "                  dl_applied, win_by_runs, win_by_wickets, venue,\n",
    "                  team1_state, team2_state):\n",
    "    \n",
    "    # Arrange input features in the same order as training\n",
    "    features = np.array([[season, city, date, toss_winner, toss_decision,\n",
    "                          result, dl_applied, win_by_runs, win_by_wickets,\n",
    "                          venue, team1_state, team2_state]])\n",
    "    \n",
    "    # Get numeric prediction\n",
    "    pred_num = m.predict(features)[0]\n",
    "    \n",
    "    # Map back to team name\n",
    "    return f\"Predicted Winner: {team_mapping.get(pred_num, 'Unknown')}\"\n",
    "\n",
    "# Gradio interface\n",
    "interface = gr.Interface(\n",
    "    fn=predict_match,\n",
    "    inputs=[\n",
    "        gr.Number(label=\"Season\"),\n",
    "        gr.Number(label=\"City\"),\n",
    "        gr.Number(label=\"Date\"),\n",
    "        gr.Number(label=\"Toss Winner\"),\n",
    "        gr.Radio([0,1], label=\"Toss Decision (0=bat,1=field)\"),\n",
    "        gr.Number(label=\"Result\"),\n",
    "        gr.Radio([0,1], label=\"DL Applied (0=No,1=Yes)\"),\n",
    "        gr.Number(label=\"Win By Runs\"),\n",
    "        gr.Number(label=\"Win By Wickets\"),\n",
    "        gr.Number(label=\"Venue\"),\n",
    "        gr.Number(label=\"Team 1 State\"),\n",
    "        gr.Number(label=\"Team 2 State\"),\n",
    "    ],\n",
    "    outputs=gr.Textbox(label=\"Prediction\"),\n",
    "    title=\"IPL Match Winner Prediction\",\n",
    "    description=\"Enter match details to predict the winning team.\"\n",
    ")\n",
    "\n",
    "interface.launch()\n"
   ]
  },
  {
   "cell_type": "code",
   "execution_count": null,
   "id": "4d6725aa-2ffc-4098-afad-867adc1d2abf",
   "metadata": {},
   "outputs": [],
   "source": []
  }
 ],
 "metadata": {
  "kernelspec": {
   "display_name": "Python 3 (ipykernel)",
   "language": "python",
   "name": "python3"
  },
  "language_info": {
   "codemirror_mode": {
    "name": "ipython",
    "version": 3
   },
   "file_extension": ".py",
   "mimetype": "text/x-python",
   "name": "python",
   "nbconvert_exporter": "python",
   "pygments_lexer": "ipython3",
   "version": "3.10.0"
  }
 },
 "nbformat": 4,
 "nbformat_minor": 5
}
